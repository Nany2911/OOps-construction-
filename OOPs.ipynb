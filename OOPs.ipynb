{
 "cells": [
  {
   "cell_type": "markdown",
   "id": "df1fccf2",
   "metadata": {},
   "source": [
    "### OOPs\n"
   ]
  },
  {
   "cell_type": "code",
   "execution_count": 10,
   "id": "e0c4e8d5",
   "metadata": {},
   "outputs": [],
   "source": [
    "class siet_student:\n",
    "    def __init__(student,Name,hall_t_No,age,branch):\n",
    "        student.NAME=Name\n",
    "        student.HALL_T_NO=hall_t_No\n",
    "        student.AGE=age\n",
    "        student.BRANCH=branch\n",
    "    def return_student_details(student):\n",
    "        return student.NAME,student.HALL_T_NO,student.AGE,student.BRANCH\n",
    "        "
   ]
  },
  {
   "cell_type": "code",
   "execution_count": 13,
   "id": "f299ebd9",
   "metadata": {},
   "outputs": [],
   "source": [
    "s1=siet_student(\"Bindhu\",525,19,\"CSE\")"
   ]
  },
  {
   "cell_type": "code",
   "execution_count": 12,
   "id": "5b84f336",
   "metadata": {},
   "outputs": [
    {
     "data": {
      "text/plain": [
       "('Bindhu', 525, 19, 'CSE')"
      ]
     },
     "execution_count": 12,
     "metadata": {},
     "output_type": "execute_result"
    }
   ],
   "source": [
    "s1.return_student_details()"
   ]
  },
  {
   "cell_type": "code",
   "execution_count": 14,
   "id": "5da2f301",
   "metadata": {},
   "outputs": [],
   "source": [
    "s2=siet_student(\"Nitish\",118,20,\"CSE\")"
   ]
  },
  {
   "cell_type": "code",
   "execution_count": 15,
   "id": "9c76b98a",
   "metadata": {},
   "outputs": [
    {
     "data": {
      "text/plain": [
       "('Nitish', 118, 20, 'CSE')"
      ]
     },
     "execution_count": 15,
     "metadata": {},
     "output_type": "execute_result"
    }
   ],
   "source": [
    "s2.return_student_details()"
   ]
  },
  {
   "cell_type": "code",
   "execution_count": 16,
   "id": "77cfe8b0",
   "metadata": {},
   "outputs": [],
   "source": [
    "s3=siet_student(\"Keshav\",554,21,'CSE')"
   ]
  },
  {
   "cell_type": "code",
   "execution_count": 17,
   "id": "ef01e334",
   "metadata": {},
   "outputs": [
    {
     "data": {
      "text/plain": [
       "('Keshav', 554, 21, 'CSE')"
      ]
     },
     "execution_count": 17,
     "metadata": {},
     "output_type": "execute_result"
    }
   ],
   "source": [
    "s3.return_student_details()"
   ]
  },
  {
   "cell_type": "code",
   "execution_count": 23,
   "id": "8ca7f100",
   "metadata": {},
   "outputs": [],
   "source": [
    "class coding_ninjas:\n",
    "    def __init__(self,student_name,student_email_id,student_course_joing_date):\n",
    "        self.Name=student_name\n",
    "        self.Email_id=student_email_id\n",
    "        self.Course_join_date=student_course_joing_date\n",
    "    def return_coding_ninjas_student_details(self):\n",
    "        return self.Name,self.Email_id,self.Course_join_date  \n",
    "    "
   ]
  },
  {
   "cell_type": "code",
   "execution_count": 24,
   "id": "a5896239",
   "metadata": {},
   "outputs": [],
   "source": [
    "studentS1=coding_ninjas(\"RAJESHWARI\",'Rajshawari2911@gmail.com',2022)\n"
   ]
  },
  {
   "cell_type": "code",
   "execution_count": 32,
   "id": "8c13a4eb",
   "metadata": {},
   "outputs": [
    {
     "data": {
      "text/plain": [
       "'RAJESHWARI'"
      ]
     },
     "execution_count": 32,
     "metadata": {},
     "output_type": "execute_result"
    }
   ],
   "source": [
    "studentS1.Name"
   ]
  },
  {
   "cell_type": "code",
   "execution_count": 33,
   "id": "096ecaec",
   "metadata": {},
   "outputs": [
    {
     "data": {
      "text/plain": [
       "'Rajshawari2911@gmail.com'"
      ]
     },
     "execution_count": 33,
     "metadata": {},
     "output_type": "execute_result"
    }
   ],
   "source": [
    "studentS1.Email_id"
   ]
  },
  {
   "cell_type": "code",
   "execution_count": 34,
   "id": "35707361",
   "metadata": {},
   "outputs": [
    {
     "data": {
      "text/plain": [
       "2022"
      ]
     },
     "execution_count": 34,
     "metadata": {},
     "output_type": "execute_result"
    }
   ],
   "source": [
    "studentS1.Course_join_date"
   ]
  },
  {
   "cell_type": "code",
   "execution_count": null,
   "id": "2a3864a0",
   "metadata": {},
   "outputs": [],
   "source": []
  }
 ],
 "metadata": {
  "kernelspec": {
   "display_name": "Python 3 (ipykernel)",
   "language": "python",
   "name": "python3"
  },
  "language_info": {
   "codemirror_mode": {
    "name": "ipython",
    "version": 3
   },
   "file_extension": ".py",
   "mimetype": "text/x-python",
   "name": "python",
   "nbconvert_exporter": "python",
   "pygments_lexer": "ipython3",
   "version": "3.9.13"
  }
 },
 "nbformat": 4,
 "nbformat_minor": 5
}
